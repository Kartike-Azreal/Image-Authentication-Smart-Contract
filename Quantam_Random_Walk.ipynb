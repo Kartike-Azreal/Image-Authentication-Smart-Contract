{
  "nbformat": 4,
  "nbformat_minor": 0,
  "metadata": {
    "colab": {
      "provenance": [],
      "authorship_tag": "ABX9TyPKECDREG2w5lNKjzG9jckR",
      "include_colab_link": true
    },
    "kernelspec": {
      "name": "python3",
      "display_name": "Python 3"
    },
    "language_info": {
      "name": "python"
    }
  },
  "cells": [
    {
      "cell_type": "markdown",
      "metadata": {
        "id": "view-in-github",
        "colab_type": "text"
      },
      "source": [
        "<a href=\"https://colab.research.google.com/github/Kartike-Azreal/Image-Authentication-Smart-Contract/blob/main/Quantam_Random_Walk.ipynb\" target=\"_parent\"><img src=\"https://colab.research.google.com/assets/colab-badge.svg\" alt=\"Open In Colab\"/></a>"
      ]
    },
    {
      "cell_type": "code",
      "execution_count": 5,
      "metadata": {
        "colab": {
          "base_uri": "https://localhost:8080/"
        },
        "id": "KrRZqtHsqH9q",
        "outputId": "d4769aba-9164-48fc-e3c1-d088d0d8459b"
      },
      "outputs": [
        {
          "output_type": "stream",
          "name": "stdout",
          "text": [
            "Requirement already satisfied: qutip in /usr/local/lib/python3.10/dist-packages (4.7.3)\n",
            "Requirement already satisfied: numpy>=1.16.6 in /usr/local/lib/python3.10/dist-packages (from qutip) (1.23.5)\n",
            "Requirement already satisfied: scipy>=1.0 in /usr/local/lib/python3.10/dist-packages (from qutip) (1.11.4)\n",
            "Requirement already satisfied: packaging in /usr/local/lib/python3.10/dist-packages (from qutip) (23.2)\n"
          ]
        }
      ],
      "source": [
        "!pip install qutip"
      ]
    },
    {
      "cell_type": "code",
      "source": [
        "from google.colab import drive\n",
        "drive.mount('/content/drive')"
      ],
      "metadata": {
        "colab": {
          "base_uri": "https://localhost:8080/"
        },
        "id": "SshGkDrxqWG-",
        "outputId": "b166a516-fb7e-4754-8ca3-255f65b59fc3"
      },
      "execution_count": 6,
      "outputs": [
        {
          "output_type": "stream",
          "name": "stdout",
          "text": [
            "Mounted at /content/drive\n"
          ]
        }
      ]
    },
    {
      "cell_type": "code",
      "source": [
        "#Converting an image into graph\n",
        "import qutip as qt\n",
        "import cv2  # Or use PIL for other image formats\n",
        "\n",
        "img_array = cv2.imread('/content/drive/MyDrive/Colab Notebooks/Image authentication project/Sample Dataset/processed.jpg')"
      ],
      "metadata": {
        "id": "jpvC9DjFrEYf",
        "colab": {
          "base_uri": "https://localhost:8080/"
        },
        "outputId": "533d67cd-ab5c-4db0-c17a-c835e504d7be"
      },
      "execution_count": 2,
      "outputs": [
        {
          "output_type": "stream",
          "name": "stderr",
          "text": [
            "/usr/local/lib/python3.10/dist-packages/qutip/__init__.py:65: UserWarning: The new version of Cython, (>= 3.0.0) is not supported.\n",
            "  warnings.warn(\n"
          ]
        }
      ]
    },
    {
      "cell_type": "code",
      "source": [
        "!pip install Cython==0.29.31"
      ],
      "metadata": {
        "colab": {
          "base_uri": "https://localhost:8080/",
          "height": 337
        },
        "id": "evEoGCEz7FGG",
        "outputId": "eec3bc39-f35a-46b7-f675-cf4087fe4420"
      },
      "execution_count": null,
      "outputs": [
        {
          "output_type": "stream",
          "name": "stdout",
          "text": [
            "Collecting Cython==0.29.31\n",
            "  Downloading Cython-0.29.31-cp310-cp310-manylinux_2_17_x86_64.manylinux2014_x86_64.manylinux_2_24_x86_64.whl (1.9 MB)\n",
            "\u001b[2K     \u001b[90m━━━━━━━━━━━━━━━━━━━━━━━━━━━━━━━━━━━━━━━━\u001b[0m \u001b[32m1.9/1.9 MB\u001b[0m \u001b[31m17.9 MB/s\u001b[0m eta \u001b[36m0:00:00\u001b[0m\n",
            "\u001b[?25h\u001b[33mWARNING: The candidate selected for download or install is a yanked version: 'cython' candidate (version 0.29.31 at https://files.pythonhosted.org/packages/44/1f/d96a03e5cb6ba265765a21c7d92850a3484b2a09766afa01b4dab74cf54d/Cython-0.29.31-cp310-cp310-manylinux_2_17_x86_64.manylinux2014_x86_64.manylinux_2_24_x86_64.whl (from https://pypi.org/simple/cython/) (requires-python:>=2.6, !=3.0.*, !=3.1.*, !=3.2.*))\n",
            "Reason for being yanked: https://github.com/cython/cython/pull/4929\u001b[0m\u001b[33m\n",
            "\u001b[0mInstalling collected packages: Cython\n",
            "  Attempting uninstall: Cython\n",
            "    Found existing installation: Cython 3.0.6\n",
            "    Uninstalling Cython-3.0.6:\n",
            "      Successfully uninstalled Cython-3.0.6\n",
            "Successfully installed Cython-0.29.31\n"
          ]
        },
        {
          "output_type": "display_data",
          "data": {
            "application/vnd.colab-display-data+json": {
              "pip_warning": {
                "packages": [
                  "Cython"
                ]
              }
            }
          },
          "metadata": {}
        }
      ]
    },
    {
      "cell_type": "code",
      "source": [
        "import qutip as qt\n",
        "import cv2\n",
        "import numpy as np\n",
        "\n",
        "def calculate_weight(pixel1, pixel2):\n",
        "    intensity_diff = np.abs(np.mean(pixel1) - np.mean(pixel2))  # Convert to grayscale and calculate intensity difference\n",
        "    weight = 1 - intensity_diff / 255\n",
        "    return weight\n",
        "\n",
        "img_array = cv2.imread('/content/drive/MyDrive/Colab Notebooks/Image authentication project/Sample Dataset/processed.jpg')\n",
        "img_gray = cv2.cvtColor(img_array, cv2.COLOR_BGR2GRAY)  # Convert to grayscale\n",
        "\n",
        "nodes = [qt.basis(2, 0) for _ in range(img_gray.size)]\n",
        "edges = []\n",
        "\n",
        "for i in range(img_gray.shape[0]):\n",
        "    for j in range(img_gray.shape[1]):\n",
        "        # Horizontal edges:\n",
        "        if j < img_gray.shape[1] - 1:\n",
        "            weight = calculate_weight(img_gray[i, j], img_gray[i, j + 1])\n",
        "            edges.append([(i * img_gray.shape[1] + j, i * img_gray.shape[1] + j + 1), weight])\n",
        "        # Vertical edges:\n",
        "        if i < img_gray.shape[0] - 1:\n",
        "            weight = calculate_weight(img_gray[i, j], img_gray[i + 1, j])\n",
        "            edges.append([(i * img_gray.shape[1] + j, (i + 1) * img_gray.shape[1] + j), weight])\n",
        "\n",
        "graph = qt.QGraph(coupling = edges, dim= 2)\n"
      ],
      "metadata": {
        "colab": {
          "base_uri": "https://localhost:8080/",
          "height": 218
        },
        "id": "btX-C-XL264f",
        "outputId": "07de852f-a5fe-4859-9bbf-fba8db3f53f9"
      },
      "execution_count": 10,
      "outputs": [
        {
          "output_type": "error",
          "ename": "AttributeError",
          "evalue": "ignored",
          "traceback": [
            "\u001b[0;31m---------------------------------------------------------------------------\u001b[0m",
            "\u001b[0;31mAttributeError\u001b[0m                            Traceback (most recent call last)",
            "\u001b[0;32m<ipython-input-10-e9ed3cba2f1e>\u001b[0m in \u001b[0;36m<cell line: 27>\u001b[0;34m()\u001b[0m\n\u001b[1;32m     25\u001b[0m             \u001b[0medges\u001b[0m\u001b[0;34m.\u001b[0m\u001b[0mappend\u001b[0m\u001b[0;34m(\u001b[0m\u001b[0;34m[\u001b[0m\u001b[0;34m(\u001b[0m\u001b[0mi\u001b[0m \u001b[0;34m*\u001b[0m \u001b[0mimg_gray\u001b[0m\u001b[0;34m.\u001b[0m\u001b[0mshape\u001b[0m\u001b[0;34m[\u001b[0m\u001b[0;36m1\u001b[0m\u001b[0;34m]\u001b[0m \u001b[0;34m+\u001b[0m \u001b[0mj\u001b[0m\u001b[0;34m,\u001b[0m \u001b[0;34m(\u001b[0m\u001b[0mi\u001b[0m \u001b[0;34m+\u001b[0m \u001b[0;36m1\u001b[0m\u001b[0;34m)\u001b[0m \u001b[0;34m*\u001b[0m \u001b[0mimg_gray\u001b[0m\u001b[0;34m.\u001b[0m\u001b[0mshape\u001b[0m\u001b[0;34m[\u001b[0m\u001b[0;36m1\u001b[0m\u001b[0;34m]\u001b[0m \u001b[0;34m+\u001b[0m \u001b[0mj\u001b[0m\u001b[0;34m)\u001b[0m\u001b[0;34m,\u001b[0m \u001b[0mweight\u001b[0m\u001b[0;34m]\u001b[0m\u001b[0;34m)\u001b[0m\u001b[0;34m\u001b[0m\u001b[0;34m\u001b[0m\u001b[0m\n\u001b[1;32m     26\u001b[0m \u001b[0;34m\u001b[0m\u001b[0m\n\u001b[0;32m---> 27\u001b[0;31m \u001b[0mgraph\u001b[0m \u001b[0;34m=\u001b[0m \u001b[0mqt\u001b[0m\u001b[0;34m.\u001b[0m\u001b[0mQGraph\u001b[0m\u001b[0;34m(\u001b[0m\u001b[0mcoupling\u001b[0m \u001b[0;34m=\u001b[0m \u001b[0medges\u001b[0m\u001b[0;34m,\u001b[0m \u001b[0mdim\u001b[0m\u001b[0;34m=\u001b[0m \u001b[0;36m2\u001b[0m\u001b[0;34m)\u001b[0m\u001b[0;34m\u001b[0m\u001b[0;34m\u001b[0m\u001b[0m\n\u001b[0m",
            "\u001b[0;31mAttributeError\u001b[0m: module 'qutip' has no attribute 'QGraph'"
          ]
        }
      ]
    },
    {
      "cell_type": "code",
      "source": [
        "!pip install scipy"
      ],
      "metadata": {
        "colab": {
          "base_uri": "https://localhost:8080/"
        },
        "id": "ExHylNvi5Sbs",
        "outputId": "873c98fa-36a3-4075-cd88-89feb2a5b705"
      },
      "execution_count": 11,
      "outputs": [
        {
          "output_type": "stream",
          "name": "stdout",
          "text": [
            "Requirement already satisfied: scipy in /usr/local/lib/python3.10/dist-packages (1.11.4)\n",
            "Requirement already satisfied: numpy<1.28.0,>=1.21.6 in /usr/local/lib/python3.10/dist-packages (from scipy) (1.23.5)\n"
          ]
        }
      ]
    },
    {
      "cell_type": "code",
      "source": [
        "import qutip as qt\n",
        "import cv2\n",
        "import numpy as np\n",
        "from scipy.sparse import lil_matrix\n",
        "\n",
        "def calculate_weight(pixel1, pixel2):\n",
        "    intensity_diff = np.abs(np.mean(pixel1) - np.mean(pixel2))\n",
        "    weight = 1 - intensity_diff / 255\n",
        "    return weight\n",
        "\n",
        "img_array = cv2.imread('/content/drive/MyDrive/Colab Notebooks/Image authentication project/Sample Dataset/processed.jpg')\n",
        "img_gray = cv2.cvtColor(img_array, cv2.COLOR_BGR2GRAY)\n",
        "\n",
        "nodes = [qt.basis(2, 0) for _ in range(img_gray.size)]\n",
        "num_nodes = img_gray.size\n",
        "adj_matrix = lil_matrix((num_nodes, num_nodes), dtype=np.float64)\n",
        "\n",
        "for i in range(img_gray.shape[0]):\n",
        "    for j in range(img_gray.shape[1]):\n",
        "        idx = i * img_gray.shape[1] + j\n",
        "        # Horizontal edges:\n",
        "        if j < img_gray.shape[1] - 1:\n",
        "            weight = calculate_weight(img_gray[i, j], img_gray[i, j + 1])\n",
        "            adj_matrix[idx, idx + 1] = weight\n",
        "            adj_matrix[idx + 1, idx] = weight  # Make the graph undirected\n",
        "        # Vertical edges:\n",
        "        if i < img_gray.shape[0] - 1:\n",
        "            weight = calculate_weight(img_gray[i, j], img_gray[i + 1, j])\n",
        "            adj_matrix[idx, idx + img_gray.shape[1]] = weight\n",
        "            adj_matrix[idx + img_gray.shape[1], idx] = weight  # Make the graph undirected\n",
        "\n",
        "graph = qt.Qobj(adj_matrix)\n",
        "\n",
        "# Now you can proceed with applying quantum random walks, feature extraction, and watermarking on the created graph.\n",
        "# Implement the quantum algorithms for these tasks based on your specific requirements.\n"
      ],
      "metadata": {
        "id": "Abxur0k55XuQ"
      },
      "execution_count": 12,
      "outputs": []
    },
    {
      "cell_type": "code",
      "source": [
        "graph"
      ],
      "metadata": {
        "colab": {
          "base_uri": "https://localhost:8080/",
          "height": 55
        },
        "id": "-IbN58pf5l90",
        "outputId": "20825f10-7532-4ab4-f781-1482a5527cf1"
      },
      "execution_count": 13,
      "outputs": [
        {
          "output_type": "execute_result",
          "data": {
            "text/plain": [
              "Quantum object: dims = [[240000], [240000]], shape = (240000, 240000), type = oper, isherm = True\n",
              "Qobj data =\n",
              "  (0, 1)\t(0.9372549019607843+0j)\n",
              "  (0, 600)\t(0.9568627450980393+0j)\n",
              "  (1, 0)\t(0.9372549019607843+0j)\n",
              "  (1, 2)\t(0.996078431372549+0j)\n",
              "  (1, 601)\t(0.9372549019607843+0j)\n",
              "  (2, 1)\t(0.996078431372549+0j)\n",
              "  (2, 3)\t(0.9529411764705882+0j)\n",
              "  (2, 602)\t(0.9647058823529412+0j)\n",
              "  (3, 2)\t(0.9529411764705882+0j)\n",
              "  (3, 4)\t(0.9843137254901961+0j)\n",
              "  (3, 603)\t(0.9568627450980393+0j)\n",
              "  (4, 3)\t(0.9843137254901961+0j)\n",
              "  (4, 5)\t(0.9647058823529412+0j)\n",
              "  (4, 604)\t(0.9647058823529412+0j)\n",
              "  (5, 4)\t(0.9647058823529412+0j)\n",
              "  (5, 6)\t(0.9568627450980393+0j)\n",
              "  (5, 605)\t(0.9725490196078431+0j)\n",
              "  (6, 5)\t(0.9568627450980393+0j)\n",
              "  (6, 7)\t(0.9568627450980393+0j)\n",
              "  (6, 606)\t(0.9764705882352941+0j)\n",
              "  (7, 6)\t(0.9568627450980393+0j)\n",
              "  (7, 8)\t(0.9803921568627451+0j)\n",
              "  (7, 607)\t(1+0j)\n",
              "  (8, 7)\t(0.9803921568627451+0j)\n",
              "  (8, 9)\t(0.9450980392156862+0j)\n",
              "  :\t:\n",
              "  (239991, 239990)\t(0.996078431372549+0j)\n",
              "  (239991, 239992)\t(0.9607843137254902+0j)\n",
              "  (239992, 239392)\t(0.9607843137254902+0j)\n",
              "  (239992, 239991)\t(0.9607843137254902+0j)\n",
              "  (239992, 239993)\t(0.9803921568627451+0j)\n",
              "  (239993, 239393)\t(0.996078431372549+0j)\n",
              "  (239993, 239992)\t(0.9803921568627451+0j)\n",
              "  (239993, 239994)\t(0.9803921568627451+0j)\n",
              "  (239994, 239394)\t(0.9686274509803922+0j)\n",
              "  (239994, 239993)\t(0.9803921568627451+0j)\n",
              "  (239994, 239995)\t(0.9686274509803922+0j)\n",
              "  (239995, 239395)\t(0.9725490196078431+0j)\n",
              "  (239995, 239994)\t(0.9686274509803922+0j)\n",
              "  (239995, 239996)\t(0.9647058823529412+0j)\n",
              "  (239996, 239396)\t(0.996078431372549+0j)\n",
              "  (239996, 239995)\t(0.9647058823529412+0j)\n",
              "  (239996, 239997)\t(0.9490196078431372+0j)\n",
              "  (239997, 239397)\t(0.9803921568627451+0j)\n",
              "  (239997, 239996)\t(0.9490196078431372+0j)\n",
              "  (239997, 239998)\t(0.9882352941176471+0j)\n",
              "  (239998, 239398)\t(0.9607843137254902+0j)\n",
              "  (239998, 239997)\t(0.9882352941176471+0j)\n",
              "  (239998, 239999)\t(0.9647058823529412+0j)\n",
              "  (239999, 239399)\t(0.9686274509803922+0j)\n",
              "  (239999, 239998)\t(0.9647058823529412+0j)"
            ],
            "text/latex": "Quantum object: dims = [[240000], [240000]], shape = (240000, 240000), type = oper, isherm = True $ \\\\ \\left(\\begin{matrix}0.0 & 0.937 & 0.0 & 0.0 & 0.0 & \\cdots & 0.0 & 0.0 & 0.0 & 0.0 & 0.0\\\\0.937 & 0.0 & 0.996 & 0.0 & 0.0 & \\cdots & 0.0 & 0.0 & 0.0 & 0.0 & 0.0\\\\0.0 & 0.996 & 0.0 & 0.953 & 0.0 & \\cdots & 0.0 & 0.0 & 0.0 & 0.0 & 0.0\\\\0.0 & 0.0 & 0.953 & 0.0 & 0.984 & \\cdots & 0.0 & 0.0 & 0.0 & 0.0 & 0.0\\\\0.0 & 0.0 & 0.0 & 0.984 & 0.0 & \\cdots & 0.0 & 0.0 & 0.0 & 0.0 & 0.0\\\\\\vdots & \\vdots & \\vdots & \\vdots & \\vdots & \\ddots & \\vdots & \\vdots & \\vdots & \\vdots & \\vdots\\\\0.0 & 0.0 & 0.0 & 0.0 & 0.0 & \\cdots & 0.0 & 0.965 & 0.0 & 0.0 & 0.0\\\\0.0 & 0.0 & 0.0 & 0.0 & 0.0 & \\cdots & 0.965 & 0.0 & 0.949 & 0.0 & 0.0\\\\0.0 & 0.0 & 0.0 & 0.0 & 0.0 & \\cdots & 0.0 & 0.949 & 0.0 & 0.988 & 0.0\\\\0.0 & 0.0 & 0.0 & 0.0 & 0.0 & \\cdots & 0.0 & 0.0 & 0.988 & 0.0 & 0.965\\\\0.0 & 0.0 & 0.0 & 0.0 & 0.0 & \\cdots & 0.0 & 0.0 & 0.0 & 0.965 & 0.0\\\\\\end{matrix}\\right)$"
          },
          "metadata": {},
          "execution_count": 13
        }
      ]
    },
    {
      "source": [
        "!pip install qutip-network"
      ],
      "cell_type": "code",
      "metadata": {
        "colab": {
          "base_uri": "https://localhost:8080/"
        },
        "id": "tFO0jodS0qFC",
        "outputId": "29f301b3-60dd-40b2-fb6b-9a9c59384150"
      },
      "execution_count": 9,
      "outputs": [
        {
          "output_type": "stream",
          "name": "stdout",
          "text": [
            "\u001b[31mERROR: Could not find a version that satisfies the requirement qutip-network (from versions: none)\u001b[0m\u001b[31m\n",
            "\u001b[0m\u001b[31mERROR: No matching distribution found for qutip-network\u001b[0m\u001b[31m\n",
            "\u001b[0m"
          ]
        }
      ]
    },
    {
      "cell_type": "code",
      "source": [
        "!pip install --upgrade qutip"
      ],
      "metadata": {
        "colab": {
          "base_uri": "https://localhost:8080/"
        },
        "id": "4OfR4UGxpUal",
        "outputId": "b298ec76-c572-478c-ee48-04c828e628b1"
      },
      "execution_count": null,
      "outputs": [
        {
          "output_type": "stream",
          "name": "stdout",
          "text": [
            "Requirement already satisfied: qutip in /usr/local/lib/python3.10/dist-packages (4.7.3)\n",
            "Requirement already satisfied: numpy>=1.16.6 in /usr/local/lib/python3.10/dist-packages (from qutip) (1.23.5)\n",
            "Requirement already satisfied: scipy>=1.0 in /usr/local/lib/python3.10/dist-packages (from qutip) (1.11.4)\n",
            "Requirement already satisfied: packaging in /usr/local/lib/python3.10/dist-packages (from qutip) (23.2)\n"
          ]
        }
      ]
    },
    {
      "cell_type": "code",
      "source": [
        "#Defining nodes\n",
        "#Create a list of QuTiPy objects representing the nodes (pixels\n",
        "nodes = [qt.basis(2, 0) for _ in range(img_array.size)]"
      ],
      "metadata": {
        "id": "1NJOup5spgFl"
      },
      "execution_count": null,
      "outputs": []
    },
    {
      "cell_type": "code",
      "source": [
        "import numpy as np\n",
        "\n",
        "#Defining Edges\n",
        "#Calculating Edge Wiegths\n",
        "def calculate_weight(pixel1, pixel2):\n",
        "    # Choose a weighting scheme:\n",
        "    # Lets start with intesity based Intensity-based\n",
        "    intensity_diff = abs(pixel1 - pixel2)  # Absolute difference in intensity\n",
        "    weight = 1 - intensity_diff / 255  # Scale between 0 and 1\n",
        "    # Distance-based\n",
        "    #distance = np.linalg.norm(pixel1.pos - pixel2.pos)  # Assuming pixels have 'pos' attribute\n",
        "    #weight = 1 / (1 + distance)  # Inversely proportional to distance\n",
        "    return weight"
      ],
      "metadata": {
        "id": "h37iKAyoqnEF"
      },
      "execution_count": null,
      "outputs": []
    },
    {
      "cell_type": "code",
      "source": [
        "edges = []\n",
        "for i in range(img_array.shape[0]):\n",
        "    for j in range(img_array.shape[1]):\n",
        "        # Horizontal edges:\n",
        "        if j < img_array.shape[1] - 1:\n",
        "            weight = calculate_weight(img_array[i, j], img_array[i, j + 1])\n",
        "            edges.append([(i * img_array.shape[1] + j, i * img_array.shape[1] + j + 1), weight])\n",
        "        # Vertical edges:\n",
        "        if i < img_array.shape[0] - 1:\n",
        "            weight = calculate_weight(img_array[i, j], img_array[i + 1, j])  # Corrected pixel comparison\n",
        "            edges.append([(i * img_array.shape[1] + j, (i + 1) * img_array.shape[1] + j), weight])"
      ],
      "metadata": {
        "id": "SNvTAmz2u-x3"
      },
      "execution_count": null,
      "outputs": []
    },
    {
      "cell_type": "code",
      "source": [
        "#Creating Qutip Graphs\n",
        "graph = qt.QGraph(coupling = edges, dim= 2)"
      ],
      "metadata": {
        "colab": {
          "base_uri": "https://localhost:8080/",
          "height": 200
        },
        "id": "J_96Eydqqq1q",
        "outputId": "84f0aa79-6666-4e4e-b8c3-ec5ab58002f8"
      },
      "execution_count": null,
      "outputs": [
        {
          "output_type": "error",
          "ename": "AttributeError",
          "evalue": "ignored",
          "traceback": [
            "\u001b[0;31m---------------------------------------------------------------------------\u001b[0m",
            "\u001b[0;31mAttributeError\u001b[0m                            Traceback (most recent call last)",
            "\u001b[0;32m<ipython-input-18-1a6c46867273>\u001b[0m in \u001b[0;36m<cell line: 2>\u001b[0;34m()\u001b[0m\n\u001b[1;32m      1\u001b[0m \u001b[0;31m#Creating Qutip Graphs\u001b[0m\u001b[0;34m\u001b[0m\u001b[0;34m\u001b[0m\u001b[0m\n\u001b[0;32m----> 2\u001b[0;31m \u001b[0mgraph\u001b[0m \u001b[0;34m=\u001b[0m \u001b[0mqt\u001b[0m\u001b[0;34m.\u001b[0m\u001b[0mQGraph\u001b[0m\u001b[0;34m(\u001b[0m\u001b[0mcoupling\u001b[0m \u001b[0;34m=\u001b[0m \u001b[0medges\u001b[0m\u001b[0;34m,\u001b[0m \u001b[0mdim\u001b[0m\u001b[0;34m=\u001b[0m \u001b[0;36m2\u001b[0m\u001b[0;34m)\u001b[0m\u001b[0;34m\u001b[0m\u001b[0;34m\u001b[0m\u001b[0m\n\u001b[0m",
            "\u001b[0;31mAttributeError\u001b[0m: module 'qutip' has no attribute 'QGraph'"
          ]
        }
      ]
    },
    {
      "cell_type": "code",
      "source": [
        "print(qt.__version__)"
      ],
      "metadata": {
        "colab": {
          "base_uri": "https://localhost:8080/"
        },
        "id": "k13WlXin13uX",
        "outputId": "9cfe857a-7d96-45fc-a507-e5b4fe618e77"
      },
      "execution_count": null,
      "outputs": [
        {
          "output_type": "stream",
          "name": "stdout",
          "text": [
            "4.7.3\n"
          ]
        }
      ]
    }
  ]
}